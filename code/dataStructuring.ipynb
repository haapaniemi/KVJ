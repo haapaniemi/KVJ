{
 "cells": [
  {
   "cell_type": "code",
   "execution_count": 24,
   "id": "1c5868e3-60a7-4f18-9888-6a3932fe07a2",
   "metadata": {},
   "outputs": [],
   "source": [
    "# Script for structuring data from https://smear.avaa.csc.fi/download and dumping it to pickle-format\n",
    "\n",
    "# can only be downoaded in 10-year packages so two files specified for < 10 years"
   ]
  },
  {
   "cell_type": "code",
   "execution_count": 1,
   "id": "12de5d98-2d3d-442d-aff3-1e3f4cddadf7",
   "metadata": {},
   "outputs": [],
   "source": [
    "import pandas as pd\n",
    "import numpy as np\n",
    "import matplotlib.pyplot as plt"
   ]
  },
  {
   "cell_type": "code",
   "execution_count": 3,
   "id": "bab7fd16-a059-4fc8-94c2-357e908bcbea",
   "metadata": {},
   "outputs": [],
   "source": [
    "path = \"data/\"\n",
    "\n",
    "infile1 = \"par_smeardata_2010-2014.csv\"\n",
    "infile2 = \"par_smeardata_2014-2024.csv\"\n",
    "\n",
    "outfile = \"par_kuivajarvi.pkl\""
   ]
  },
  {
   "cell_type": "code",
   "execution_count": 5,
   "id": "e1bd6bce-a570-46d9-b70d-f95a843dfe48",
   "metadata": {},
   "outputs": [
    {
     "data": {
      "text/html": [
       "<div>\n",
       "<style scoped>\n",
       "    .dataframe tbody tr th:only-of-type {\n",
       "        vertical-align: middle;\n",
       "    }\n",
       "\n",
       "    .dataframe tbody tr th {\n",
       "        vertical-align: top;\n",
       "    }\n",
       "\n",
       "    .dataframe thead th {\n",
       "        text-align: right;\n",
       "    }\n",
       "</style>\n",
       "<table border=\"1\" class=\"dataframe\">\n",
       "  <thead>\n",
       "    <tr style=\"text-align: right;\">\n",
       "      <th></th>\n",
       "      <th>KVJ_META.PARw20</th>\n",
       "      <th>KVJ_META.PARw10</th>\n",
       "      <th>KVJ_META.PARw02</th>\n",
       "      <th>KVJ_META.PARw05</th>\n",
       "      <th>KVJ_META.PARw07</th>\n",
       "    </tr>\n",
       "    <tr>\n",
       "      <th>timestamp</th>\n",
       "      <th></th>\n",
       "      <th></th>\n",
       "      <th></th>\n",
       "      <th></th>\n",
       "      <th></th>\n",
       "    </tr>\n",
       "  </thead>\n",
       "  <tbody>\n",
       "    <tr>\n",
       "      <th>2012-01-01 00:00:00</th>\n",
       "      <td>NaN</td>\n",
       "      <td>NaN</td>\n",
       "      <td>NaN</td>\n",
       "      <td>NaN</td>\n",
       "      <td>NaN</td>\n",
       "    </tr>\n",
       "    <tr>\n",
       "      <th>2012-01-01 00:30:00</th>\n",
       "      <td>NaN</td>\n",
       "      <td>NaN</td>\n",
       "      <td>NaN</td>\n",
       "      <td>NaN</td>\n",
       "      <td>NaN</td>\n",
       "    </tr>\n",
       "    <tr>\n",
       "      <th>2012-01-01 01:00:00</th>\n",
       "      <td>NaN</td>\n",
       "      <td>NaN</td>\n",
       "      <td>NaN</td>\n",
       "      <td>NaN</td>\n",
       "      <td>NaN</td>\n",
       "    </tr>\n",
       "    <tr>\n",
       "      <th>2012-01-01 01:30:00</th>\n",
       "      <td>NaN</td>\n",
       "      <td>NaN</td>\n",
       "      <td>NaN</td>\n",
       "      <td>NaN</td>\n",
       "      <td>NaN</td>\n",
       "    </tr>\n",
       "    <tr>\n",
       "      <th>2012-01-01 02:00:00</th>\n",
       "      <td>NaN</td>\n",
       "      <td>NaN</td>\n",
       "      <td>NaN</td>\n",
       "      <td>NaN</td>\n",
       "      <td>NaN</td>\n",
       "    </tr>\n",
       "    <tr>\n",
       "      <th>...</th>\n",
       "      <td>...</td>\n",
       "      <td>...</td>\n",
       "      <td>...</td>\n",
       "      <td>...</td>\n",
       "      <td>...</td>\n",
       "    </tr>\n",
       "    <tr>\n",
       "      <th>2019-10-10 21:30:00</th>\n",
       "      <td>0.02137</td>\n",
       "      <td>NaN</td>\n",
       "      <td>0.10960</td>\n",
       "      <td>0.11777</td>\n",
       "      <td>-0.02797</td>\n",
       "    </tr>\n",
       "    <tr>\n",
       "      <th>2019-10-10 22:00:00</th>\n",
       "      <td>0.04410</td>\n",
       "      <td>NaN</td>\n",
       "      <td>-0.06727</td>\n",
       "      <td>-0.03517</td>\n",
       "      <td>0.12927</td>\n",
       "    </tr>\n",
       "    <tr>\n",
       "      <th>2019-10-10 22:30:00</th>\n",
       "      <td>0.02687</td>\n",
       "      <td>NaN</td>\n",
       "      <td>0.13687</td>\n",
       "      <td>0.00983</td>\n",
       "      <td>0.01223</td>\n",
       "    </tr>\n",
       "    <tr>\n",
       "      <th>2019-10-10 23:00:00</th>\n",
       "      <td>0.01867</td>\n",
       "      <td>NaN</td>\n",
       "      <td>-0.11850</td>\n",
       "      <td>-0.08113</td>\n",
       "      <td>0.17423</td>\n",
       "    </tr>\n",
       "    <tr>\n",
       "      <th>2019-10-10 23:30:00</th>\n",
       "      <td>-0.01063</td>\n",
       "      <td>NaN</td>\n",
       "      <td>0.05233</td>\n",
       "      <td>-0.05310</td>\n",
       "      <td>0.04617</td>\n",
       "    </tr>\n",
       "  </tbody>\n",
       "</table>\n",
       "<p>136320 rows × 5 columns</p>\n",
       "</div>"
      ],
      "text/plain": [
       "                     KVJ_META.PARw20  KVJ_META.PARw10  KVJ_META.PARw02  \\\n",
       "timestamp                                                                \n",
       "2012-01-01 00:00:00              NaN              NaN              NaN   \n",
       "2012-01-01 00:30:00              NaN              NaN              NaN   \n",
       "2012-01-01 01:00:00              NaN              NaN              NaN   \n",
       "2012-01-01 01:30:00              NaN              NaN              NaN   \n",
       "2012-01-01 02:00:00              NaN              NaN              NaN   \n",
       "...                              ...              ...              ...   \n",
       "2019-10-10 21:30:00          0.02137              NaN          0.10960   \n",
       "2019-10-10 22:00:00          0.04410              NaN         -0.06727   \n",
       "2019-10-10 22:30:00          0.02687              NaN          0.13687   \n",
       "2019-10-10 23:00:00          0.01867              NaN         -0.11850   \n",
       "2019-10-10 23:30:00         -0.01063              NaN          0.05233   \n",
       "\n",
       "                     KVJ_META.PARw05  KVJ_META.PARw07  \n",
       "timestamp                                              \n",
       "2012-01-01 00:00:00              NaN              NaN  \n",
       "2012-01-01 00:30:00              NaN              NaN  \n",
       "2012-01-01 01:00:00              NaN              NaN  \n",
       "2012-01-01 01:30:00              NaN              NaN  \n",
       "2012-01-01 02:00:00              NaN              NaN  \n",
       "...                              ...              ...  \n",
       "2019-10-10 21:30:00          0.11777         -0.02797  \n",
       "2019-10-10 22:00:00         -0.03517          0.12927  \n",
       "2019-10-10 22:30:00          0.00983          0.01223  \n",
       "2019-10-10 23:00:00         -0.08113          0.17423  \n",
       "2019-10-10 23:30:00         -0.05310          0.04617  \n",
       "\n",
       "[136320 rows x 5 columns]"
      ]
     },
     "execution_count": 5,
     "metadata": {},
     "output_type": "execute_result"
    }
   ],
   "source": [
    "flux_data = pd.read_csv(path+infile1)\n",
    "flux_data = pd.concat([flux_data,pd.read_csv(path+infile2)]).reset_index(drop=True)\n",
    "\n",
    "#data[\"timestamp\"] = []\n",
    "\n",
    "cols = flux_data.columns[0:6]\n",
    "flux_data[\"timestamp\"]=pd.to_datetime(flux_data[cols])\n",
    "flux_data = flux_data.drop(cols,axis=1)\n",
    "flux_data = flux_data.set_index(\"timestamp\")\n",
    "\n",
    "flux_data.to_pickle(path+outfile)\n",
    "#flux_data.to_csv(\"\")\n",
    "flux_data"
   ]
  },
  {
   "cell_type": "code",
   "execution_count": 130,
   "id": "bb946dc8-b4b2-46b2-80f5-79012a1e23ad",
   "metadata": {},
   "outputs": [],
   "source": [
    "turnover_periods = pd.read_csv(\"data/Turnover_dates.csv\", \n",
    "                 delimiter=';', \n",
    "                 header=None, \n",
    "                 names=[\"Year\", \"Month\", \"Day\", \"Hour\", \"Minute\"], \n",
    "                 skipinitialspace=True, \n",
    "                 na_values=['', ' ', 'NaN'],\n",
    "                 dtype=str)\n",
    "\n",
    "\n",
    "turnover_periods['datetime'] = pd.to_datetime(turnover_perids[['Year', 'Month', 'Day', 'Hour', 'Minute']], errors='coerce')\n",
    "turnover_periods = turnover_periods[['datetime']]\n",
    "turnover_periods.to_pickle(\"data/turnover_periods.pkl\")"
   ]
  },
  {
   "cell_type": "code",
   "execution_count": 145,
   "id": "227eb079-bc52-4880-8a34-33f2c47c0882",
   "metadata": {},
   "outputs": [],
   "source": [
    "import pandas as pd\n",
    "\n",
    "# Step 1: Create the half-hourly timestamp DataFrame\n",
    "start_time = '2012-01-01 00:00:00'\n",
    "end_time = '2024-10-09 00:00:00'\n",
    "\n",
    "# Generate half-hourly timestamps between 2012 and October 9, 2024\n",
    "timestamps = pd.date_range(start=start_time, end=end_time, freq='30min')\n",
    "\n",
    "# Create a DataFrame with these timestamps\n",
    "df_timestamps = pd.DataFrame({'timestamp': timestamps})\n",
    "\n",
    "turnover_perids['datetime'] = pd.to_datetime(turnover_perids['datetime'])  # Ensure datetime format\n",
    "\n",
    "# Step 3: Create a column to store labels (initialize with 0s)\n",
    "df_timestamps['label'] = 0\n",
    "\n",
    "# Step 4: Loop through each pair of consecutive datetimes and label the periods as 1\n",
    "for i in range(0, len(turnover_perids) - 1, 2):\n",
    "    start_period = turnover_perids['datetime'].iloc[i]\n",
    "    end_period = turnover_perids['datetime'].iloc[i + 1]\n",
    "    \n",
    "    # Ensure both start and end are not NaT before applying the labeling\n",
    "    if pd.notna(start_period) and pd.notna(end_period):\n",
    "        mask = (df_timestamps['timestamp'] >= start_period) & (df_timestamps['timestamp'] <= end_period)\n",
    "        df_timestamps.loc[mask, 'label'] = 1\n",
    "dummy_turnovers=df_timestamps.set_axis(df_timestamps.timestamp).drop(\"timestamp\",axis=1)\n",
    "dummy_turnovers.to_pickle(\"data/dummy_turnovers.pkl\")"
   ]
  },
  {
   "cell_type": "code",
   "execution_count": 175,
   "id": "05400d09-a1ff-40ab-96e8-957c78438460",
   "metadata": {},
   "outputs": [
    {
     "data": {
      "text/plain": [
       "<Axes: xlabel='timestamp,timestamp'>"
      ]
     },
     "execution_count": 175,
     "metadata": {},
     "output_type": "execute_result"
    },
    {
     "data": {
      "image/png": "[encoded data removed]",
      "text/plain": [
       "<Figure size 1400x700 with 1 Axes>"
      ]
     },
     "metadata": {},
     "output_type": "display_data"
    }
   ],
   "source": [
    "intermediate = dummy_turnovers.resample(\"1d\").mean()\n",
    "intermediate2 = intermediate.groupby([intermediate.index.month,intermediate.index.day]).mean()\n",
    "intermediate2.to_pickle(\"data/mean_turnovers.pkl\")\n",
    "((13/10)*intermediate2).plot()"
   ]
  },
  {
   "cell_type": "code",
   "execution_count": 93,
   "id": "9fb3138b-787c-4549-8fc7-32570ebf5455",
   "metadata": {},
   "outputs": [
    {
     "data": {
      "text/plain": [
       "0"
      ]
     },
     "execution_count": 93,
     "metadata": {},
     "output_type": "execute_result"
    }
   ],
   "source": []
  }
 ],
 "metadata": {
  "kernelspec": {
   "display_name": "Python 3 (ipykernel)",
   "language": "python",
   "name": "python3"
  },
  "language_info": {
   "codemirror_mode": {
    "name": "ipython",
    "version": 3
   },
   "file_extension": ".py",
   "mimetype": "text/x-python",
   "name": "python",
   "nbconvert_exporter": "python",
   "pygments_lexer": "ipython3",
   "version": "3.11.5"
  }
 },
 "nbformat": 4,
 "nbformat_minor": 5
}
