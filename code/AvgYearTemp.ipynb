{
 "cells": [
  {
   "cell_type": "code",
   "execution_count": 1,
   "id": "8052025d",
   "metadata": {},
   "outputs": [],
   "source": [
    "from matplotlib import pyplot as plt\n",
    "import numpy as np\n",
    "import pandas as pd\n",
    "import os\n",
    "from datetime import datetime, timedelta"
   ]
  },
  {
   "cell_type": "code",
   "execution_count": 2,
   "id": "eec9da67",
   "metadata": {},
   "outputs": [],
   "source": [
    "# identify and change directory\n",
    "new_dir = 'Z:/Desktop/AS_Matlab/WaterT';\n",
    "os.chdir(new_dir)"
   ]
  },
  {
   "cell_type": "code",
   "execution_count": 3,
   "id": "020ba19c",
   "metadata": {},
   "outputs": [
    {
     "name": "stdout",
     "output_type": "stream",
     "text": [
      "   doy  depth    values\n",
      "0    1    0.2  0.398388\n",
      "1    2    0.2  0.402805\n",
      "2    3    0.2  0.389927\n",
      "3    4    0.2  0.382599\n",
      "4    5    0.2  0.364872\n",
      "Index(['values'], dtype='object')\n"
     ]
    }
   ],
   "source": [
    "# read datatframe\n",
    "df_avgY = pd.read_pickle('avgYearTemp.pkl', compression='infer', storage_options=None)\n",
    "df_avgY_reset = df_avgY.reset_index()  # Resets 'doy' and 'depth' as columns\n",
    "print(df_avgY_reset.head())  # To verify the changes\n",
    "# df_avgY_reset = df_avgY.reset_index()  # Resets the index so 'doy' becomes a column\n",
    "# print(df_avgY)\n",
    "# print(df_avgY.index)  # Check the index\n",
    "print(df_avgY.columns)  # Check the columns"
   ]
  },
  {
   "cell_type": "code",
   "execution_count": 4,
   "id": "8794bfdf",
   "metadata": {},
   "outputs": [],
   "source": [
    "# df_avgY.to_csv('WATER.csv',sep='\\t',na_rep='NaN',index=True)"
   ]
  },
  {
   "cell_type": "code",
   "execution_count": 5,
   "id": "b686d922",
   "metadata": {},
   "outputs": [
    {
     "name": "stdout",
     "output_type": "stream",
     "text": [
      "depth      0.2       0.5       1.0       1.5       2.0       2.5       3.0   \\\n",
      "doy                                                                           \n",
      "1      0.398388  1.125340  1.618505  1.920581  1.973885  2.002661  2.144867   \n",
      "2      0.402805  1.131311  1.627523  1.931008  1.973029  1.996558  2.135849   \n",
      "3      0.389927  1.126268  1.631746  1.941994  1.985509  2.010607  2.151296   \n",
      "4      0.382599  1.113843  1.613233  1.927112  1.983661  2.023827  2.173087   \n",
      "5      0.364872  1.090802  1.597097  1.917284  1.993573  2.044499  2.198177   \n",
      "..          ...       ...       ...       ...       ...       ...       ...   \n",
      "362    0.394080  1.157898  1.701306  2.032528  2.068555  2.082953  2.225634   \n",
      "363    0.372322  1.139179  1.698342  2.034149  2.075789  2.097053  2.241352   \n",
      "364    0.383034  1.144811  1.697406  2.037015  2.078186  2.106902  2.253607   \n",
      "365    0.387637  1.147051  1.697253  2.038897  2.081527  2.115274  2.267864   \n",
      "366    0.133281  0.873410  1.157879  1.767488  1.760042  1.761979  1.979764   \n",
      "\n",
      "depth      3.5       4.0       4.5       5.0       6.0       7.0       8.0   \\\n",
      "doy                                                                           \n",
      "1      2.167730  2.347593  2.469043  2.288723  2.283637  2.400855  2.490808   \n",
      "2      2.157475  2.335545  2.457901  2.261680  2.249032  2.376803  2.465474   \n",
      "3      2.171970  2.350270  2.475469  2.281630  2.267948  2.398484  2.484201   \n",
      "4      2.197604  2.375159  2.494955  2.318523  2.309935  2.441549  2.528705   \n",
      "5      2.226747  2.406253  2.525111  2.365639  2.360597  2.492065  2.585948   \n",
      "..          ...       ...       ...       ...       ...       ...       ...   \n",
      "362    2.253819  2.423246  2.395418  2.400256  2.387119  2.517189  2.607919   \n",
      "363    2.266612  2.431109  2.404628  2.408884  2.399035  2.526779  2.612390   \n",
      "364    2.280143  2.448419  2.423920  2.426632  2.409620  2.539012  2.627626   \n",
      "365    2.295148  2.465650  2.437938  2.437717  2.423750  2.553672  2.644150   \n",
      "366    2.074813  2.313094  2.206068  2.285667  2.253580  2.449337  2.545983   \n",
      "\n",
      "depth      10.0      12.0  \n",
      "doy                        \n",
      "1      2.637336  3.073426  \n",
      "2      2.618805  3.047464  \n",
      "3      2.647083  3.073769  \n",
      "4      2.688225  3.119751  \n",
      "5      2.728888  3.169995  \n",
      "..          ...       ...  \n",
      "362    2.729597  3.135610  \n",
      "363    2.737930  3.152849  \n",
      "364    2.745578  3.159712  \n",
      "365    2.759770  3.174908  \n",
      "366    2.648528  3.178483  \n",
      "\n",
      "[366 rows x 16 columns]\n"
     ]
    }
   ],
   "source": [
    "df_avgY_reshaped = pd.pivot(df_avgY_reset, index='doy', columns='depth', values='values')\n",
    "print(df_avgY_reshaped)"
   ]
  },
  {
   "cell_type": "code",
   "execution_count": 6,
   "id": "986c728d",
   "metadata": {},
   "outputs": [],
   "source": [
    "# df_avgY_reshaped = pd.pivot(df_avgY,index='doy',columns='depth',values='values')"
   ]
  },
  {
   "cell_type": "code",
   "execution_count": 7,
   "id": "192d39cc",
   "metadata": {},
   "outputs": [],
   "source": [
    "df_avgY_reshaped.to_csv('Kuivajarvi_waterYear_LAM.tsv', sep='\\t', na_rep='NaN',index=True)"
   ]
  },
  {
   "cell_type": "code",
   "execution_count": 8,
   "id": "17ad1fe8",
   "metadata": {},
   "outputs": [],
   "source": [
    "# READ FILE TO BE REPLACED"
   ]
  },
  {
   "cell_type": "code",
   "execution_count": 9,
   "id": "b58e41af",
   "metadata": {},
   "outputs": [],
   "source": [
    "df_TBR = pd.read_csv('Kuivajarvi_TOBEREPLACED.csv',sep='\\t')"
   ]
  },
  {
   "cell_type": "code",
   "execution_count": 10,
   "id": "6282cc83",
   "metadata": {
    "scrolled": true
   },
   "outputs": [
    {
     "name": "stdout",
     "output_type": "stream",
     "text": [
      "         dates_waterT   temp0.2   temp0.5   temp1.0   temp1.5   temp2.0  \\\n",
      "0    2012-01-01 00:00       NaN       NaN       NaN       NaN       NaN   \n",
      "1    2012-01-02 00:00       NaN       NaN       NaN       NaN       NaN   \n",
      "2    2012-01-03 00:00       NaN       NaN       NaN       NaN       NaN   \n",
      "3    2012-01-04 00:00       NaN       NaN       NaN       NaN       NaN   \n",
      "4    2012-01-05 00:00       NaN       NaN       NaN       NaN       NaN   \n",
      "..                ...       ...       ...       ...       ...       ...   \n",
      "361  2012-12-27 00:00  0.143361  0.753257  1.273187  1.669625  1.997375   \n",
      "362  2012-12-28 00:00  0.145999  0.752979  1.274833  1.671347  2.011681   \n",
      "363  2012-12-29 00:00  0.165535  0.774632  1.297251  1.697763  2.034848   \n",
      "364  2012-12-30 00:00  0.175362  0.781778  1.310411  1.713410  2.050764   \n",
      "365  2012-12-31 00:00  0.202305  0.809188  1.317173  1.723805  2.063605   \n",
      "\n",
      "      temp2.5   temp3.0   temp3.5   temp4.0   temp4.5   temp5.0   temp6.0  \\\n",
      "0         NaN       NaN       NaN       NaN       NaN       NaN       NaN   \n",
      "1         NaN       NaN       NaN       NaN       NaN       NaN       NaN   \n",
      "2         NaN       NaN       NaN       NaN       NaN       NaN       NaN   \n",
      "3         NaN       NaN       NaN       NaN       NaN       NaN       NaN   \n",
      "4         NaN       NaN       NaN       NaN       NaN       NaN       NaN   \n",
      "..        ...       ...       ...       ...       ...       ...       ...   \n",
      "361  2.201285  2.369812  2.473216  2.601631  2.697826  2.886173  3.018104   \n",
      "362  2.211173  2.390048  2.488751  2.601619  2.710924  2.885556  2.991424   \n",
      "363  2.238452  2.409084  2.509916  2.641424  2.749715  2.933958  3.024472   \n",
      "364  2.248938  2.423514  2.523403  2.690035  2.785910  2.954326  3.047868   \n",
      "365  2.264716  2.430201  2.526125  2.685034  2.789382  2.970875  3.050035   \n",
      "\n",
      "      temp7.0   temp8.0  temp10.0  temp12.0  \n",
      "0         NaN       NaN       NaN       NaN  \n",
      "1         NaN       NaN       NaN       NaN  \n",
      "2         NaN       NaN       NaN       NaN  \n",
      "3         NaN       NaN       NaN       NaN  \n",
      "4         NaN       NaN       NaN       NaN  \n",
      "..        ...       ...       ...       ...  \n",
      "361  3.157674  3.193812  3.241223  3.720763  \n",
      "362  3.129458  3.177744  3.213875  3.690215  \n",
      "363  3.160270  3.197917  3.190951  3.620771  \n",
      "364  3.180493  3.231882  3.224368  3.652861  \n",
      "365  3.175744  3.229889  3.190437  3.686556  \n",
      "\n",
      "[366 rows x 17 columns]\n"
     ]
    }
   ],
   "source": [
    "print(df_TBR)"
   ]
  },
  {
   "cell_type": "code",
   "execution_count": 11,
   "id": "27c0bcb4",
   "metadata": {},
   "outputs": [
    {
     "name": "stdout",
     "output_type": "stream",
     "text": [
      "Index(['temp0.2', 'temp0.5', 'temp1.0', 'temp1.5', 'temp2.0', 'temp2.5',\n",
      "       'temp3.0', 'temp3.5', 'temp4.0', 'temp4.5', 'temp5.0', 'temp6.0',\n",
      "       'temp7.0', 'temp8.0', 'temp10.0', 'temp12.0', 'dates_waterT'],\n",
      "      dtype='object')\n"
     ]
    }
   ],
   "source": [
    "df_avgY_reshaped['dates_waterT'] = df_TBR ['dates_waterT']\n",
    "df_avgY_reshaped.columns = ['temp' + str(col) for col in df_avgY_reshaped.columns]\n",
    "df_avgY_reshaped = df_avgY_reshaped.rename(columns={'tempdates_waterT': 'dates_waterT'}) \n",
    "\n",
    "print(df_avgY_reshaped.columns)"
   ]
  },
  {
   "cell_type": "code",
   "execution_count": 12,
   "id": "cb7e792c",
   "metadata": {},
   "outputs": [],
   "source": [
    "new_column_order = ['dates_waterT','temp0.2', 'temp0.5', 'temp1.0', 'temp1.5','temp2.0', 'temp2.5','temp3.0','temp3.5','temp4.0','temp4.5','temp5.0','temp6.0','temp7.0','temp8.0','temp10.0','temp12.0']\n",
    "df_avgY_reshaped = df_avgY_reshaped[new_column_order]"
   ]
  },
  {
   "cell_type": "code",
   "execution_count": 13,
   "id": "ec9b58c7",
   "metadata": {},
   "outputs": [],
   "source": [
    "# df_avgY_reshaped.to_csv('Kuivajarvi_waterYear_LAM_DATESOK.tsv', sep='\\t', na_rep='NaN',index=False)"
   ]
  },
  {
   "cell_type": "code",
   "execution_count": 14,
   "id": "d2b7d324",
   "metadata": {},
   "outputs": [],
   "source": [
    "df_avgY_reshaped.drop( ['temp0.2', 'temp0.5', 'temp1.0', 'temp1.5','temp2.0', 'temp2.5','temp3.0','temp3.5','temp4.0','temp4.5','temp5.0','temp6.0','temp7.0','temp8.0','temp10.0','temp12.0'], axis=1, inplace=True)"
   ]
  },
  {
   "cell_type": "code",
   "execution_count": 15,
   "id": "b3269a0d",
   "metadata": {},
   "outputs": [],
   "source": [
    " df_avgY_reshaped.to_csv('Kuivajarvi_DATESLAM.tsv', sep='\\t', na_rep='NaN',index=False)"
   ]
  }
 ],
 "metadata": {
  "kernelspec": {
   "display_name": "Python 3 (ipykernel)",
   "language": "python",
   "name": "python3"
  },
  "language_info": {
   "codemirror_mode": {
    "name": "ipython",
    "version": 3
   },
   "file_extension": ".py",
   "mimetype": "text/x-python",
   "name": "python",
   "nbconvert_exporter": "python",
   "pygments_lexer": "ipython3",
   "version": "3.11.4"
  }
 },
 "nbformat": 4,
 "nbformat_minor": 5
}
